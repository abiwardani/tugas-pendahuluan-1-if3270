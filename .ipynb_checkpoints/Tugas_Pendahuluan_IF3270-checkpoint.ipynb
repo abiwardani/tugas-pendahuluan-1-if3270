{
 "cells": [
  {
   "cell_type": "markdown",
   "metadata": {
    "id": "bdq8ydSd4xUy"
   },
   "source": [
    "# Tugas Pendahuluan\n",
    "Tugas Pendahuluan dikerjakan dengan dataset titanic yang dapat didownload pada link [berikut](https://drive.google.com/file/d/16j_9FEHLjh_Y_3CdUtp9M13VwImyT89T/view?usp=sharing). Lakukan prediksi apakah suatu penumpang selamat atau tidak (kolom **survived**), bernilai 0 jika tidak selamat, dan 1 jika selamat.\n",
    "\n",
    "<br>\n",
    "Tugas dikerjakan secara berkelompok, dengan 1 kelompok terdiri atas 2 mahasiswa. Waktu pengerjaan dari 28 Maret 2022 - 3 April 2022 pukul 23.59."
   ]
  },
  {
   "cell_type": "markdown",
   "metadata": {
    "id": "XAHqneEY7b7b"
   },
   "source": [
    "# 0. Loading Data and Library"
   ]
  },
  {
   "cell_type": "code",
   "execution_count": 33,
   "metadata": {
    "id": "zsBbpcIi7fHi"
   },
   "outputs": [],
   "source": [
    "# Put your library here\n",
    "\n",
    "import pandas as pd\n",
    "from pandas.api.types import is_numeric_dtype"
   ]
  },
  {
   "cell_type": "code",
   "execution_count": 5,
   "metadata": {
    "id": "OWLkjeKo7gdD"
   },
   "outputs": [],
   "source": [
    "# Read data here\n",
    "\n",
    "# Load titanic dataset\n",
    "df_raw = pd.read_csv(\"titanic_dataset.csv\")\n",
    "df = df_raw.copy()"
   ]
  },
  {
   "cell_type": "code",
   "execution_count": 18,
   "metadata": {},
   "outputs": [
    {
     "data": {
      "text/plain": [
       "index                                   5\n",
       "pclass                                1.0\n",
       "survived                              1.0\n",
       "name        Chambers, Mr. Norman Campbell\n",
       "sex                                  male\n",
       "age                                  27.0\n",
       "sibsp                                 1.0\n",
       "parch                                 0.0\n",
       "ticket                             113806\n",
       "fare                                 53.1\n",
       "cabin                                  E8\n",
       "embarked                                S\n",
       "Name: 5, dtype: object"
      ]
     },
     "execution_count": 18,
     "metadata": {},
     "output_type": "execute_result"
    }
   ],
   "source": [
    "df.iloc[5]"
   ]
  },
  {
   "cell_type": "markdown",
   "metadata": {
    "id": "JYGzyrantR1r"
   },
   "source": [
    "# I. Data Understanding\n",
    "Tujuan dari bagian ini adalah peserta dapat memahami kualitas dari data yang diberikan. Hal ini meliputi:\n",
    "1. Ukuran data\n",
    "2. Statistik dari tiap fitur\n",
    "3. Pencilan (outlier)\n",
    "4. Korelasi\n",
    "5. Distribusi "
   ]
  },
  {
   "cell_type": "markdown",
   "metadata": {
    "id": "8SMf9-ikuoCe"
   },
   "source": [
    "## I.1 \n",
    "Carilah:\n",
    "1. Ukuran dari data (instances dan features)\n",
    "2. Tipe dari tiap-tiap fitur \n",
    "3. Banyaknya unique values dari fitur yang bertipe kategorikal\n",
    "4. Nilai minimum, maksimum, rata-rata, median, dan standar deviasi dari fitur yang tidak bertipe kategorikal"
   ]
  },
  {
   "cell_type": "code",
   "execution_count": 61,
   "metadata": {
    "id": "SAxrfZySuM3-"
   },
   "outputs": [
    {
     "data": {
      "text/html": [
       "<div>\n",
       "<style scoped>\n",
       "    .dataframe tbody tr th:only-of-type {\n",
       "        vertical-align: middle;\n",
       "    }\n",
       "\n",
       "    .dataframe tbody tr th {\n",
       "        vertical-align: top;\n",
       "    }\n",
       "\n",
       "    .dataframe thead th {\n",
       "        text-align: right;\n",
       "    }\n",
       "</style>\n",
       "<table border=\"1\" class=\"dataframe\">\n",
       "  <thead>\n",
       "    <tr style=\"text-align: right;\">\n",
       "      <th></th>\n",
       "      <th>index</th>\n",
       "      <th>pclass</th>\n",
       "      <th>survived</th>\n",
       "      <th>age</th>\n",
       "      <th>sibsp</th>\n",
       "      <th>parch</th>\n",
       "      <th>fare</th>\n",
       "    </tr>\n",
       "  </thead>\n",
       "  <tbody>\n",
       "    <tr>\n",
       "      <th>count</th>\n",
       "      <td>1309.000000</td>\n",
       "      <td>1309.000000</td>\n",
       "      <td>1309.000000</td>\n",
       "      <td>1046.000000</td>\n",
       "      <td>1309.000000</td>\n",
       "      <td>1309.000000</td>\n",
       "      <td>1308.000000</td>\n",
       "    </tr>\n",
       "    <tr>\n",
       "      <th>mean</th>\n",
       "      <td>654.000000</td>\n",
       "      <td>2.294882</td>\n",
       "      <td>0.381971</td>\n",
       "      <td>29.881135</td>\n",
       "      <td>0.498854</td>\n",
       "      <td>0.385027</td>\n",
       "      <td>33.295479</td>\n",
       "    </tr>\n",
       "    <tr>\n",
       "      <th>std</th>\n",
       "      <td>378.020061</td>\n",
       "      <td>0.837836</td>\n",
       "      <td>0.486055</td>\n",
       "      <td>14.413500</td>\n",
       "      <td>1.041658</td>\n",
       "      <td>0.865560</td>\n",
       "      <td>51.758668</td>\n",
       "    </tr>\n",
       "    <tr>\n",
       "      <th>min</th>\n",
       "      <td>0.000000</td>\n",
       "      <td>1.000000</td>\n",
       "      <td>0.000000</td>\n",
       "      <td>0.166700</td>\n",
       "      <td>0.000000</td>\n",
       "      <td>0.000000</td>\n",
       "      <td>0.000000</td>\n",
       "    </tr>\n",
       "    <tr>\n",
       "      <th>25%</th>\n",
       "      <td>327.000000</td>\n",
       "      <td>2.000000</td>\n",
       "      <td>0.000000</td>\n",
       "      <td>21.000000</td>\n",
       "      <td>0.000000</td>\n",
       "      <td>0.000000</td>\n",
       "      <td>7.895800</td>\n",
       "    </tr>\n",
       "    <tr>\n",
       "      <th>50%</th>\n",
       "      <td>654.000000</td>\n",
       "      <td>3.000000</td>\n",
       "      <td>0.000000</td>\n",
       "      <td>28.000000</td>\n",
       "      <td>0.000000</td>\n",
       "      <td>0.000000</td>\n",
       "      <td>14.454200</td>\n",
       "    </tr>\n",
       "    <tr>\n",
       "      <th>75%</th>\n",
       "      <td>981.000000</td>\n",
       "      <td>3.000000</td>\n",
       "      <td>1.000000</td>\n",
       "      <td>39.000000</td>\n",
       "      <td>1.000000</td>\n",
       "      <td>0.000000</td>\n",
       "      <td>31.275000</td>\n",
       "    </tr>\n",
       "    <tr>\n",
       "      <th>max</th>\n",
       "      <td>1308.000000</td>\n",
       "      <td>3.000000</td>\n",
       "      <td>1.000000</td>\n",
       "      <td>80.000000</td>\n",
       "      <td>8.000000</td>\n",
       "      <td>9.000000</td>\n",
       "      <td>512.329200</td>\n",
       "    </tr>\n",
       "  </tbody>\n",
       "</table>\n",
       "</div>"
      ],
      "text/plain": [
       "             index       pclass     survived          age        sibsp  \\\n",
       "count  1309.000000  1309.000000  1309.000000  1046.000000  1309.000000   \n",
       "mean    654.000000     2.294882     0.381971    29.881135     0.498854   \n",
       "std     378.020061     0.837836     0.486055    14.413500     1.041658   \n",
       "min       0.000000     1.000000     0.000000     0.166700     0.000000   \n",
       "25%     327.000000     2.000000     0.000000    21.000000     0.000000   \n",
       "50%     654.000000     3.000000     0.000000    28.000000     0.000000   \n",
       "75%     981.000000     3.000000     1.000000    39.000000     1.000000   \n",
       "max    1308.000000     3.000000     1.000000    80.000000     8.000000   \n",
       "\n",
       "             parch         fare  \n",
       "count  1309.000000  1308.000000  \n",
       "mean      0.385027    33.295479  \n",
       "std       0.865560    51.758668  \n",
       "min       0.000000     0.000000  \n",
       "25%       0.000000     7.895800  \n",
       "50%       0.000000    14.454200  \n",
       "75%       0.000000    31.275000  \n",
       "max       9.000000   512.329200  "
      ]
     },
     "execution_count": 61,
     "metadata": {},
     "output_type": "execute_result"
    }
   ],
   "source": [
    "# I.1 Put your code here\n",
    "\n",
    "df.describe()"
   ]
  },
  {
   "cell_type": "markdown",
   "metadata": {
    "id": "VE1l_gOTwHuz"
   },
   "source": [
    "## I.2\n",
    "Carilah:\n",
    "1. Missing values dari tiap fitur\n",
    "2. Outliers dari tiap fitur (gunakan metode yang kalian ketahui)"
   ]
  },
  {
   "cell_type": "code",
   "execution_count": 60,
   "metadata": {
    "id": "IGe-YWAvwQDr",
    "scrolled": false
   },
   "outputs": [
    {
     "name": "stdout",
     "output_type": "stream",
     "text": [
      "1. Missing values dari tiap fitur\n",
      "\n",
      "• pclass: 0\n",
      "• name: 0\n",
      "• sex: 0\n",
      "• age: 263\n",
      "• sibsp: 0\n",
      "• parch: 0\n",
      "• ticket: 0\n",
      "• fare: 1\n",
      "• cabin: 1014\n",
      "• embarked: 2\n",
      "\n",
      "       index  pclass  survived                                          name  \\\n",
      "0         0     3.0       1.0                   Abelseth, Miss. Karen Marie   \n",
      "1         1     3.0       0.0                       Burns, Miss. Mary Delia   \n",
      "3         3     3.0       1.0  de Messemaeker, Mrs. Guillaume Joseph (Emma)   \n",
      "4         4     3.0       0.0                     Jonsson, Mr. Nils Hilding   \n",
      "6         6     2.0       0.0                           Enander, Mr. Ingvar   \n",
      "...     ...     ...       ...                                           ...   \n",
      "1301   1301     3.0       0.0              Gronnestad, Mr. Daniel Danielsen   \n",
      "1302   1302     3.0       1.0                     Madsen, Mr. Fridtjof Arne   \n",
      "1304   1304     3.0       1.0                         Dahl, Mr. Karl Edwart   \n",
      "1307   1307     3.0       1.0                Murphy, Miss. Katherine \"Kate\"   \n",
      "1308   1308     3.0       0.0                           Sage, Mr. Frederick   \n",
      "\n",
      "         sex   age  sibsp  parch    ticket     fare cabin embarked  \n",
      "0     female  16.0    0.0    0.0    348125   7.6500   NaN        S  \n",
      "1     female  18.0    0.0    0.0    330963   7.8792   NaN        Q  \n",
      "3     female  36.0    1.0    0.0    345572  17.4000   NaN        S  \n",
      "4       male  27.0    0.0    0.0    350408   7.8542   NaN        S  \n",
      "6       male  21.0    0.0    0.0    236854  13.0000   NaN        S  \n",
      "...      ...   ...    ...    ...       ...      ...   ...      ...  \n",
      "1301    male  32.0    0.0    0.0      8471   8.3625   NaN        S  \n",
      "1302    male  24.0    0.0    0.0   C 17369   7.1417   NaN        S  \n",
      "1304    male  45.0    0.0    0.0      7598   8.0500   NaN        S  \n",
      "1307  female   NaN    1.0    0.0    367230  15.5000   NaN        Q  \n",
      "1308    male   NaN    8.0    2.0  CA. 2343  69.5500   NaN        S  \n",
      "\n",
      "[1039 rows x 12 columns]\n",
      "\n",
      "\n",
      "2. Outliers dari tiap fitur\n",
      "\n",
      "• pclass:\n",
      "\t- Lower bound: 0.5\n",
      "\t- Upper bound: 4.5\n",
      "\n",
      "\t  No outliers\n",
      "\n",
      "• age:\n",
      "\t- Lower bound: -6.0\n",
      "\t- Upper bound: 66.0\n",
      "\n",
      "       age\n",
      "271   71.0\n",
      "352   70.0\n",
      "422   70.0\n",
      "535   76.0\n",
      "639   74.0\n",
      "665   70.5\n",
      "706   71.0\n",
      "866   67.0\n",
      "1265  80.0\n",
      "Jumlah: 9\n",
      "\n",
      "• sibsp:\n",
      "\t- Lower bound: -1.5\n",
      "\t- Upper bound: 2.5\n",
      "\n",
      "      sibsp\n",
      "2       3.0\n",
      "25      5.0\n",
      "43      3.0\n",
      "55      4.0\n",
      "98      4.0\n",
      "103     3.0\n",
      "110     4.0\n",
      "117     3.0\n",
      "131     3.0\n",
      "151     3.0\n",
      "177     5.0\n",
      "179     3.0\n",
      "244     3.0\n",
      "317     4.0\n",
      "318     4.0\n",
      "340     8.0\n",
      "368     8.0\n",
      "375     5.0\n",
      "441     8.0\n",
      "454     3.0\n",
      "459     4.0\n",
      "476     4.0\n",
      "484     3.0\n",
      "485     4.0\n",
      "505     4.0\n",
      "516     3.0\n",
      "527     3.0\n",
      "530     8.0\n",
      "540     3.0\n",
      "576     5.0\n",
      "580     8.0\n",
      "617     4.0\n",
      "643     3.0\n",
      "652     3.0\n",
      "713     4.0\n",
      "731     4.0\n",
      "743     3.0\n",
      "766     4.0\n",
      "772     8.0\n",
      "794     3.0\n",
      "817     4.0\n",
      "843     4.0\n",
      "849     5.0\n",
      "880     5.0\n",
      "939     8.0\n",
      "955     4.0\n",
      "982     3.0\n",
      "986     3.0\n",
      "998     4.0\n",
      "1020    8.0\n",
      "1029    4.0\n",
      "1032    4.0\n",
      "1035    3.0\n",
      "1180    4.0\n",
      "1192    4.0\n",
      "1203    4.0\n",
      "1308    8.0\n",
      "Jumlah: 57\n",
      "\n",
      "• parch:\n",
      "\t- Lower bound: 0.0\n",
      "\t- Upper bound: 0.0\n",
      "\n",
      "      parch\n",
      "2       2.0\n",
      "10      2.0\n",
      "15      1.0\n",
      "17      1.0\n",
      "22      1.0\n",
      "...     ...\n",
      "1291    1.0\n",
      "1294    1.0\n",
      "1296    1.0\n",
      "1306    1.0\n",
      "1308    2.0\n",
      "\n",
      "[307 rows x 1 columns]\n",
      "Jumlah: 307\n",
      "\n",
      "• fare:\n",
      "\t- Lower bound: -27.172999999999995\n",
      "\t- Upper bound: 66.3438\n",
      "\n",
      "          fare\n",
      "2     263.0000\n",
      "11     93.5000\n",
      "12     89.1042\n",
      "15    153.4625\n",
      "17    110.8833\n",
      "...        ...\n",
      "1294  134.5000\n",
      "1298   78.2667\n",
      "1303  227.5250\n",
      "1305  108.9000\n",
      "1308   69.5500\n",
      "\n",
      "[171 rows x 1 columns]\n",
      "Jumlah: 171\n"
     ]
    }
   ],
   "source": [
    "# I.2 Put your code here\n",
    "\n",
    "print(\"1. Missing values dari tiap fitur\\n\")\n",
    "\n",
    "for column in df.columns[1:]:\n",
    "    if (column != \"survived\"):\n",
    "        print(\"• \"+column+str(\": \")+str(len(df[df[column].isna()])))\n",
    "\n",
    "print(\"\\n\", df[df.isna().any(axis=1)])\n",
    "\n",
    "print(\"\\n\\n2. Outliers dari tiap fitur\")\n",
    "\n",
    "for column in df.columns[1:]:\n",
    "    if (is_numeric_dtype(df[column]) and column != \"survived\"):\n",
    "        print(\"\\n• \"+column+str(\":\"))\n",
    "        q1 = df[column].quantile(0.25)\n",
    "        q3 = df[column].quantile(0.75)\n",
    "        iqr = q3-q1\n",
    "        lower_bound = 2.5*q1-1.5*q3\n",
    "        upper_bound = 2.5*q3-1.5*q1\n",
    "        outliers = df.loc[(df[column]<lower_bound) | (df[column]>upper_bound), [column]]\n",
    "        print(\"\\t- Lower bound: \"+str(lower_bound))\n",
    "        print(\"\\t- Upper bound: \"+str(upper_bound)+\"\\n\")\n",
    "        if (len(outliers) == 0):\n",
    "            print(\"\\t  No outliers\")\n",
    "        else:\n",
    "            print(str(outliers))\n",
    "            print(\"Jumlah: \"+str(len(outliers)))"
   ]
  },
  {
   "cell_type": "markdown",
   "metadata": {
    "id": "8tUGStQ_wR4P"
   },
   "source": [
    "## I.3\n",
    "Carilah:\n",
    "1. Korelasi antar fitur\n",
    "2. Visualisasikan distribusi dari tiap fitur (kategorikal dan kontinu)\n",
    "3. Visualisasikan distribusi dari tiap fitur, dengan data dibagi tiap unique values fitur survived"
   ]
  },
  {
   "cell_type": "code",
   "execution_count": null,
   "metadata": {
    "id": "XoBqyQA1wRNX"
   },
   "outputs": [],
   "source": [
    "# I.3 Put your code here"
   ]
  },
  {
   "cell_type": "markdown",
   "metadata": {
    "id": "kV3BDt235mdz"
   },
   "source": [
    "## I.4\n",
    "Lakukanlah analisa pada data lebih lanjut jika dibutuhkan, kemudian lakukanlah:\n",
    "1. Penambahan fitur jika memungkinkan\n",
    "2. Pembuangan fitur yang menurut kalian tidak dibutuhkan\n",
    "3. Penanganan missing values\n",
    "4. Transformasi data kategorikal menjadi numerikal (encoding), dengan metode yang kalian inginkan\n",
    "5. Lakukan scaling dengan MinMaxScaler"
   ]
  },
  {
   "cell_type": "code",
   "execution_count": null,
   "metadata": {
    "id": "jlTGspG_56re"
   },
   "outputs": [],
   "source": [
    "# I.4 Put your code here"
   ]
  },
  {
   "cell_type": "markdown",
   "metadata": {
    "id": "mt2zHZRauLIm"
   },
   "source": [
    "# II. Experiments Design\n",
    "Tujuan dari bagian ini adalah peserta dapat memahami cara melakukan eksperimen mencari metode terbaik dengan benar. Hal ini meliputi:\n",
    "1. Pembuatan model\n",
    "2. Proses validasi\n",
    "3. Hyperparameter tuning"
   ]
  },
  {
   "cell_type": "markdown",
   "metadata": {
    "id": "Kf4xsl8RydIt"
   },
   "source": [
    "## II.1\n",
    "Tentukanlah metrics yang akan digunakan pada eksperimen kali ini (dapat lebih dari 1 metric)"
   ]
  },
  {
   "cell_type": "markdown",
   "metadata": {
    "id": "S2I0axfj4OuC"
   },
   "source": [
    "Put your answer for section II.1 here"
   ]
  },
  {
   "cell_type": "markdown",
   "metadata": {
    "id": "FONT0OyUyoQG"
   },
   "source": [
    "## II.2 \n",
    "Bagi data dengan perbandingan 0.8 untuk data train dan 0.2 untuk data validasi"
   ]
  },
  {
   "cell_type": "code",
   "execution_count": null,
   "metadata": {
    "id": "Gqa9nn5muMS2"
   },
   "outputs": [],
   "source": [
    "# II.2 Put your code here"
   ]
  },
  {
   "cell_type": "markdown",
   "metadata": {
    "id": "V4yS8O3tyyyh"
   },
   "source": [
    "## II.3\n",
    "Lakukanlah:\n",
    "1. Prediksi dengan menggunakan model Logistic Regression sebagai *baseline*\n",
    "2. Tampilkan evaluasi dari model yang dibangun dari metrics yang anda tentukan pada II.1\n",
    "3. Tampilkan confusion matrix"
   ]
  },
  {
   "cell_type": "code",
   "execution_count": null,
   "metadata": {
    "id": "EpEqAz94yyQo"
   },
   "outputs": [],
   "source": [
    "# II.3 Put your code here"
   ]
  },
  {
   "cell_type": "markdown",
   "metadata": {
    "id": "aFB2AlZfzU54"
   },
   "source": [
    "## II.4 \n",
    "Lakukanlah:\n",
    "1. Pembelajaran dengan model lain\n",
    "2. Hyperparameter tuning model yang kalian pakai dengan menggunakan Grid Search (perhatikan random factor pada beberapa algoritma model)\n",
    "3. Lakukan validasi dengan menggunakan cross validation\n"
   ]
  },
  {
   "cell_type": "code",
   "execution_count": null,
   "metadata": {
    "id": "df0YVJ7dzUSc"
   },
   "outputs": [],
   "source": [
    "# II.4 Put your code here"
   ]
  },
  {
   "cell_type": "markdown",
   "metadata": {
    "id": "5ePIGuRZuNZb"
   },
   "source": [
    "# III. Improvement\n",
    "Terdapat beberapa metode untuk melakukan peningkatan performa, contohnya adalah:\n",
    "1. Melakukan oversampling / undersampling pada data\n",
    "2. Menggabungkan beberapa model \n",
    "\n",
    "Pada bagian ini, kalian diharapkan dapat:\n",
    "1. Melakukan training dengan data hasil oversampling / undersampling dan melakukan validasi dengan benar\n",
    "2. Memahami beberapa metode untuk menggabungkan beberapa model"
   ]
  },
  {
   "cell_type": "markdown",
   "metadata": {
    "id": "NGgjXVqf1vhN"
   },
   "source": [
    "## III.1\n",
    "Lakukanlah:\n",
    "1. Oversampling pada kelas minoritas pada data train, kemudian train dengan model *baseline* (II.3), lakukan validasi dengan data validasi. Data train dan validasi adalah data yang kalian bagi pada bagian II.2\n",
    "2. Undersampling pada kelas mayoritas pada data train, kemudian train dengan model *baseline* (II.3) lakukan validasi dengan data validasi. Data train dan validasi adalah data yang kalian bagi pada bagian II.2"
   ]
  },
  {
   "cell_type": "code",
   "execution_count": null,
   "metadata": {
    "id": "bLLLsyoF2GIM"
   },
   "outputs": [],
   "source": [
    "# III.1 Put your code here"
   ]
  },
  {
   "cell_type": "markdown",
   "metadata": {
    "id": "FtbGHN3P2Fxe"
   },
   "source": [
    "## III.2\n",
    "Lakukanlah:\n",
    "1. Eksplorasi soft voting, hard voting, dan stacking\n",
    "2. Buatlah model Logistic Regression dan SVM (boleh menggunakan model dengan beberapa parameter yang berbeda)\n",
    "3. Lakukanlah soft voting dari model-model yang sudah kalian buat pada poin 2\n",
    "4. Lakukan hard voting dari model-model yang sudah kalian buat pada poin 2\n",
    "5. Lakukanlah stacking dengan final classifier adalah Logistic Regression dari model-model yang sudah kalian buat pada poin 2\n",
    "6. Lakukan validasi dengan metrics yang kalian tentukan untuk poin 3, 4, dan 5"
   ]
  },
  {
   "cell_type": "markdown",
   "metadata": {
    "id": "NfGqy72SAZ-t"
   },
   "source": [
    "Put your answer for section III.2 point 1 here"
   ]
  },
  {
   "cell_type": "code",
   "execution_count": null,
   "metadata": {
    "id": "zdchguBQtErx"
   },
   "outputs": [],
   "source": [
    "# III.2 Put your code here"
   ]
  },
  {
   "cell_type": "markdown",
   "metadata": {
    "id": "unmFXb-73OMD"
   },
   "source": [
    "# IV. Analisis\n",
    "Bandingkan hasil dari:\n",
    "1. Model Baseline (II.3)\n",
    "2. Model lain (II.4)\n",
    "3. Hasil undersampling\n",
    "4. Hasil oversampling\n",
    "5. Hasil soft voting\n",
    "6. Hasil hard voting\n",
    "7. Hasil stacking "
   ]
  },
  {
   "cell_type": "markdown",
   "metadata": {
    "id": "e9x0VH2AAkwZ"
   },
   "source": [
    "Put your answer for section IV here"
   ]
  }
 ],
 "metadata": {
  "colab": {
   "collapsed_sections": [],
   "name": "Tugas Pendahuluan IF3270.ipynb",
   "provenance": []
  },
  "kernelspec": {
   "display_name": "Python 3 (ipykernel)",
   "language": "python",
   "name": "python3"
  },
  "language_info": {
   "codemirror_mode": {
    "name": "ipython",
    "version": 3
   },
   "file_extension": ".py",
   "mimetype": "text/x-python",
   "name": "python",
   "nbconvert_exporter": "python",
   "pygments_lexer": "ipython3",
   "version": "3.9.5"
  }
 },
 "nbformat": 4,
 "nbformat_minor": 4
}
