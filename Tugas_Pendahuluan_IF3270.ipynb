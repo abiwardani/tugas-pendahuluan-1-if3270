{
 "cells": [
  {
   "cell_type": "markdown",
   "metadata": {
    "id": "bdq8ydSd4xUy"
   },
   "source": [
    "# Tugas Pendahuluan\n",
    "Tugas Pendahuluan dikerjakan dengan dataset titanic yang dapat didownload pada link [berikut](https://drive.google.com/file/d/16j_9FEHLjh_Y_3CdUtp9M13VwImyT89T/view?usp=sharing). Lakukan prediksi apakah suatu penumpang selamat atau tidak (kolom **survived**), bernilai 0 jika tidak selamat, dan 1 jika selamat.\n",
    "\n",
    "<br>\n",
    "Tugas dikerjakan secara berkelompok, dengan 1 kelompok terdiri atas 2 mahasiswa. Waktu pengerjaan dari 28 Maret 2022 - 3 April 2022 pukul 23.59."
   ]
  },
  {
   "cell_type": "markdown",
   "metadata": {
    "id": "XAHqneEY7b7b"
   },
   "source": [
    "# 0. Loading Data and Library"
   ]
  },
  {
   "cell_type": "code",
   "execution_count": 157,
   "metadata": {
    "id": "zsBbpcIi7fHi"
   },
   "outputs": [],
   "source": [
    "# Put your library here\n",
    "\n",
    "import pandas as pd\n",
    "from pandas.api.types import is_numeric_dtype\n",
    "import numpy as np\n",
    "import matplotlib.pyplot as plt",
    "from pandas.api.types import is_numeric_dtype"
   ]
  },
  {
   "cell_type": "code",
   "execution_count": 2,
   "metadata": {
    "id": "OWLkjeKo7gdD"
   },
   "outputs": [],
   "source": [
    "# Read data here\n",
    "\n",
    "# Load titanic dataset\n",
    "df_raw = pd.read_csv(\"titanic_dataset.csv\")\n",
    "df = df_raw.copy()"
   ]
  },
  {
   "cell_type": "code",
   "execution_count": 8,
   "metadata": {},
   "outputs": [
    {
     "data": {
      "text/html": [
       "<div>\n",
       "<style scoped>\n",
       "    .dataframe tbody tr th:only-of-type {\n",
       "        vertical-align: middle;\n",
       "    }\n",
       "\n",
       "    .dataframe tbody tr th {\n",
       "        vertical-align: top;\n",
       "    }\n",
       "\n",
       "    .dataframe thead th {\n",
       "        text-align: right;\n",
       "    }\n",
       "</style>\n",
       "<table border=\"1\" class=\"dataframe\">\n",
       "  <thead>\n",
       "    <tr style=\"text-align: right;\">\n",
       "      <th></th>\n",
       "      <th>index</th>\n",
       "      <th>pclass</th>\n",
       "      <th>survived</th>\n",
       "      <th>name</th>\n",
       "      <th>sex</th>\n",
       "      <th>age</th>\n",
       "      <th>sibsp</th>\n",
       "      <th>parch</th>\n",
       "      <th>ticket</th>\n",
       "      <th>fare</th>\n",
       "      <th>cabin</th>\n",
       "      <th>embarked</th>\n",
       "    </tr>\n",
       "  </thead>\n",
       "  <tbody>\n",
       "    <tr>\n",
       "      <th>0</th>\n",
       "      <td>0</td>\n",
       "      <td>3.0</td>\n",
       "      <td>1.0</td>\n",
       "      <td>Abelseth, Miss. Karen Marie</td>\n",
       "      <td>female</td>\n",
       "      <td>16.0</td>\n",
       "      <td>0.0</td>\n",
       "      <td>0.0</td>\n",
       "      <td>348125</td>\n",
       "      <td>7.6500</td>\n",
       "      <td>NaN</td>\n",
       "      <td>S</td>\n",
       "    </tr>\n",
       "    <tr>\n",
       "      <th>1</th>\n",
       "      <td>1</td>\n",
       "      <td>3.0</td>\n",
       "      <td>0.0</td>\n",
       "      <td>Burns, Miss. Mary Delia</td>\n",
       "      <td>female</td>\n",
       "      <td>18.0</td>\n",
       "      <td>0.0</td>\n",
       "      <td>0.0</td>\n",
       "      <td>330963</td>\n",
       "      <td>7.8792</td>\n",
       "      <td>NaN</td>\n",
       "      <td>Q</td>\n",
       "    </tr>\n",
       "    <tr>\n",
       "      <th>2</th>\n",
       "      <td>2</td>\n",
       "      <td>1.0</td>\n",
       "      <td>1.0</td>\n",
       "      <td>Fortune, Miss. Alice Elizabeth</td>\n",
       "      <td>female</td>\n",
       "      <td>24.0</td>\n",
       "      <td>3.0</td>\n",
       "      <td>2.0</td>\n",
       "      <td>19950</td>\n",
       "      <td>263.0000</td>\n",
       "      <td>C23 C25 C27</td>\n",
       "      <td>S</td>\n",
       "    </tr>\n",
       "    <tr>\n",
       "      <th>3</th>\n",
       "      <td>3</td>\n",
       "      <td>3.0</td>\n",
       "      <td>1.0</td>\n",
       "      <td>de Messemaeker, Mrs. Guillaume Joseph (Emma)</td>\n",
       "      <td>female</td>\n",
       "      <td>36.0</td>\n",
       "      <td>1.0</td>\n",
       "      <td>0.0</td>\n",
       "      <td>345572</td>\n",
       "      <td>17.4000</td>\n",
       "      <td>NaN</td>\n",
       "      <td>S</td>\n",
       "    </tr>\n",
       "    <tr>\n",
       "      <th>4</th>\n",
       "      <td>4</td>\n",
       "      <td>3.0</td>\n",
       "      <td>0.0</td>\n",
       "      <td>Jonsson, Mr. Nils Hilding</td>\n",
       "      <td>male</td>\n",
       "      <td>27.0</td>\n",
       "      <td>0.0</td>\n",
       "      <td>0.0</td>\n",
       "      <td>350408</td>\n",
       "      <td>7.8542</td>\n",
       "      <td>NaN</td>\n",
       "      <td>S</td>\n",
       "    </tr>\n",
       "    <tr>\n",
       "      <th>...</th>\n",
       "      <td>...</td>\n",
       "      <td>...</td>\n",
       "      <td>...</td>\n",
       "      <td>...</td>\n",
       "      <td>...</td>\n",
       "      <td>...</td>\n",
       "      <td>...</td>\n",
       "      <td>...</td>\n",
       "      <td>...</td>\n",
       "      <td>...</td>\n",
       "      <td>...</td>\n",
       "      <td>...</td>\n",
       "    </tr>\n",
       "    <tr>\n",
       "      <th>1304</th>\n",
       "      <td>1304</td>\n",
       "      <td>3.0</td>\n",
       "      <td>1.0</td>\n",
       "      <td>Dahl, Mr. Karl Edwart</td>\n",
       "      <td>male</td>\n",
       "      <td>45.0</td>\n",
       "      <td>0.0</td>\n",
       "      <td>0.0</td>\n",
       "      <td>7598</td>\n",
       "      <td>8.0500</td>\n",
       "      <td>NaN</td>\n",
       "      <td>S</td>\n",
       "    </tr>\n",
       "    <tr>\n",
       "      <th>1305</th>\n",
       "      <td>1305</td>\n",
       "      <td>1.0</td>\n",
       "      <td>0.0</td>\n",
       "      <td>Penasco y Castellana, Mr. Victor de Satode</td>\n",
       "      <td>male</td>\n",
       "      <td>18.0</td>\n",
       "      <td>1.0</td>\n",
       "      <td>0.0</td>\n",
       "      <td>PC 17758</td>\n",
       "      <td>108.9000</td>\n",
       "      <td>C65</td>\n",
       "      <td>C</td>\n",
       "    </tr>\n",
       "    <tr>\n",
       "      <th>1306</th>\n",
       "      <td>1306</td>\n",
       "      <td>2.0</td>\n",
       "      <td>1.0</td>\n",
       "      <td>Becker, Miss. Ruth Elizabeth</td>\n",
       "      <td>female</td>\n",
       "      <td>12.0</td>\n",
       "      <td>2.0</td>\n",
       "      <td>1.0</td>\n",
       "      <td>230136</td>\n",
       "      <td>39.0000</td>\n",
       "      <td>F4</td>\n",
       "      <td>S</td>\n",
       "    </tr>\n",
       "    <tr>\n",
       "      <th>1307</th>\n",
       "      <td>1307</td>\n",
       "      <td>3.0</td>\n",
       "      <td>1.0</td>\n",
       "      <td>Murphy, Miss. Katherine \"Kate\"</td>\n",
       "      <td>female</td>\n",
       "      <td>NaN</td>\n",
       "      <td>1.0</td>\n",
       "      <td>0.0</td>\n",
       "      <td>367230</td>\n",
       "      <td>15.5000</td>\n",
       "      <td>NaN</td>\n",
       "      <td>Q</td>\n",
       "    </tr>\n",
       "    <tr>\n",
       "      <th>1308</th>\n",
       "      <td>1308</td>\n",
       "      <td>3.0</td>\n",
       "      <td>0.0</td>\n",
       "      <td>Sage, Mr. Frederick</td>\n",
       "      <td>male</td>\n",
       "      <td>NaN</td>\n",
       "      <td>8.0</td>\n",
       "      <td>2.0</td>\n",
       "      <td>CA. 2343</td>\n",
       "      <td>69.5500</td>\n",
       "      <td>NaN</td>\n",
       "      <td>S</td>\n",
       "    </tr>\n",
       "  </tbody>\n",
       "</table>\n",
       "<p>1309 rows × 12 columns</p>\n",
       "</div>"
      ],
      "text/plain": [
       "      index  pclass  survived                                          name  \\\n",
       "0         0     3.0       1.0                   Abelseth, Miss. Karen Marie   \n",
       "1         1     3.0       0.0                       Burns, Miss. Mary Delia   \n",
       "2         2     1.0       1.0                Fortune, Miss. Alice Elizabeth   \n",
       "3         3     3.0       1.0  de Messemaeker, Mrs. Guillaume Joseph (Emma)   \n",
       "4         4     3.0       0.0                     Jonsson, Mr. Nils Hilding   \n",
       "...     ...     ...       ...                                           ...   \n",
       "1304   1304     3.0       1.0                         Dahl, Mr. Karl Edwart   \n",
       "1305   1305     1.0       0.0    Penasco y Castellana, Mr. Victor de Satode   \n",
       "1306   1306     2.0       1.0                  Becker, Miss. Ruth Elizabeth   \n",
       "1307   1307     3.0       1.0                Murphy, Miss. Katherine \"Kate\"   \n",
       "1308   1308     3.0       0.0                           Sage, Mr. Frederick   \n",
       "\n",
       "         sex   age  sibsp  parch    ticket      fare        cabin embarked  \n",
       "0     female  16.0    0.0    0.0    348125    7.6500          NaN        S  \n",
       "1     female  18.0    0.0    0.0    330963    7.8792          NaN        Q  \n",
       "2     female  24.0    3.0    2.0     19950  263.0000  C23 C25 C27        S  \n",
       "3     female  36.0    1.0    0.0    345572   17.4000          NaN        S  \n",
       "4       male  27.0    0.0    0.0    350408    7.8542          NaN        S  \n",
       "...      ...   ...    ...    ...       ...       ...          ...      ...  \n",
       "1304    male  45.0    0.0    0.0      7598    8.0500          NaN        S  \n",
       "1305    male  18.0    1.0    0.0  PC 17758  108.9000          C65        C  \n",
       "1306  female  12.0    2.0    1.0    230136   39.0000           F4        S  \n",
       "1307  female   NaN    1.0    0.0    367230   15.5000          NaN        Q  \n",
       "1308    male   NaN    8.0    2.0  CA. 2343   69.5500          NaN        S  \n",
       "\n",
       "[1309 rows x 12 columns]"
      ]
     },
     "execution_count": 8,
     "metadata": {},
     "output_type": "execute_result"
    }
   ],
   "source": [
    "df"
   ]
  },
  {
   "cell_type": "code",
   "execution_count": 87,
   "metadata": {},
   "outputs": [
    {
     "data": {
      "text/plain": [
       "index         int64\n",
       "pclass      float64\n",
       "survived    float64\n",
       "name         object\n",
       "sex          object\n",
       "age         float64\n",
       "sibsp       float64\n",
       "parch       float64\n",
       "ticket       object\n",
       "fare        float64\n",
       "cabin        object\n",
       "embarked     object\n",
       "dtype: object"
      ]
     },
     "execution_count": 87,
     "metadata": {},
     "output_type": "execute_result"
    }
   ],
   "source": [
    "df.dtypes"
   ]
  },
  {
   "cell_type": "code",
   "execution_count": 3,
   "metadata": {},
   "outputs": [
    {
     "data": {
      "text/plain": [
       "index                                   5\n",
       "pclass                                1.0\n",
       "survived                              1.0\n",
       "name        Chambers, Mr. Norman Campbell\n",
       "sex                                  male\n",
       "age                                  27.0\n",
       "sibsp                                 1.0\n",
       "parch                                 0.0\n",
       "ticket                             113806\n",
       "fare                                 53.1\n",
       "cabin                                  E8\n",
       "embarked                                S\n",
       "Name: 5, dtype: object"
      ]
     },
     "execution_count": 3,
     "metadata": {},
     "output_type": "execute_result"
    }
   ],
   "source": [
    "df.iloc[5]"
   ]
  },
  {
   "cell_type": "markdown",
   "metadata": {
    "id": "JYGzyrantR1r"
   },
   "source": [
    "# I. Data Understanding\n",
    "Tujuan dari bagian ini adalah peserta dapat memahami kualitas dari data yang diberikan. Hal ini meliputi:\n",
    "1. Ukuran data\n",
    "2. Statistik dari tiap fitur\n",
    "3. Pencilan (outlier)\n",
    "4. Korelasi\n",
    "5. Distribusi "
   ]
  },
  {
   "cell_type": "markdown",
   "metadata": {
    "id": "8SMf9-ikuoCe"
   },
   "source": [
    "## I.1 \n",
    "Carilah:\n",
    "1. Ukuran dari data (instances dan features)\n",
    "\n",
    "\n"
   ]
  },
  {
   "cell_type": "code",
   "execution_count": 44,
   "metadata": {},
   "outputs": [
    {
     "name": "stdout",
     "output_type": "stream",
     "text": [
      "Banyaknya instances yaitu 1309\n",
      "Banyaknya features yaitu 11\n"
     ]
    }
   ],
   "source": [
    "print(\"Banyaknya instances yaitu\", df.shape[0])\n",
    "print(\"Banyaknya features yaitu\", df.loc[:, df.columns!='survived'].shape[1])"
   ]
  },
  {
   "cell_type": "markdown",
   "metadata": {},
   "source": [
    "2. Tipe dari tiap-tiap fitur "
   ]
  },
  {
   "cell_type": "markdown",
   "metadata": {},
   "source": [
    "    1. Categorical\n",
    "        - pclass : ordinal\n",
    "        - sex\n",
    "        - embarked\n",
    "    2. Numeric\n",
    "        - age : continuous\n",
    "        - fare : continuous\n",
    "        - sibsp : discrete\n",
    "        - parch : discrete\n",
    "    3. Lainnya\n",
    "        - ticket\n",
    "        - cabin\n",
    "        - name\n",
    "        - index"
   ]
  },
  {
   "cell_type": "markdown",
   "metadata": {},
   "source": [
    "3. Banyaknya unique values dari fitur yang bertipe kategorikal"
   ]
  },
  {
   "cell_type": "code",
   "execution_count": 45,
   "metadata": {},
   "outputs": [
    {
     "name": "stdout",
     "output_type": "stream",
     "text": [
      "Banyaknya Unique Values dari pclass yaitu 3\n",
      "Banyaknya Unique Values dari sex yaitu 2\n",
      "Banyaknya Unique Values dari embarked yaitu 4\n"
     ]
    }
   ],
   "source": [
    "print(\"Banyaknya Unique Values dari pclass yaitu\", len(pd.unique(df['pclass'])))\n",
    "print(\"Banyaknya Unique Values dari sex yaitu\", len(pd.unique(df['sex'])))\n",
    "print(\"Banyaknya Unique Values dari embarked yaitu\", len(pd.unique(df['embarked'])))"
   ]
  },
  {
   "cell_type": "markdown",
   "metadata": {},
   "source": [
    "4. Nilai minimum, maksimum, rata-rata, median, dan standar deviasi dari fitur yang tidak bertipe kategorikal"
   ]
  },
  {
   "cell_type": "code",
   "execution_count": 126,
   "metadata": {
    "id": "SAxrfZySuM3-"
   },
   "outputs": [
    {
     "data": {
      "text/html": [
       "<div>\n",
       "<style scoped>\n",
       "    .dataframe tbody tr th:only-of-type {\n",
       "        vertical-align: middle;\n",
       "    }\n",
       "\n",
       "    .dataframe tbody tr th {\n",
       "        vertical-align: top;\n",
       "    }\n",
       "\n",
       "    .dataframe thead th {\n",
       "        text-align: right;\n",
       "    }\n",
       "</style>\n",
       "<table border=\"1\" class=\"dataframe\">\n",
       "  <thead>\n",
       "    <tr style=\"text-align: right;\">\n",
       "      <th></th>\n",
       "      <th>age</th>\n",
       "      <th>fare</th>\n",
       "      <th>sibsp</th>\n",
       "      <th>parch</th>\n",
       "    </tr>\n",
       "  </thead>\n",
       "  <tbody>\n",
       "    <tr>\n",
       "      <th>count</th>\n",
       "      <td>1046.000000</td>\n",
       "      <td>1308.000000</td>\n",
       "      <td>1309.000000</td>\n",
       "      <td>1309.000000</td>\n",
       "    </tr>\n",
       "    <tr>\n",
       "      <th>mean</th>\n",
       "      <td>29.881135</td>\n",
       "      <td>33.295479</td>\n",
       "      <td>0.498854</td>\n",
       "      <td>0.385027</td>\n",
       "    </tr>\n",
       "    <tr>\n",
       "      <th>std</th>\n",
       "      <td>14.413500</td>\n",
       "      <td>51.758668</td>\n",
       "      <td>1.041658</td>\n",
       "      <td>0.865560</td>\n",
       "    </tr>\n",
       "    <tr>\n",
       "      <th>min</th>\n",
       "      <td>0.166700</td>\n",
       "      <td>0.000000</td>\n",
       "      <td>0.000000</td>\n",
       "      <td>0.000000</td>\n",
       "    </tr>\n",
       "    <tr>\n",
       "      <th>25%</th>\n",
       "      <td>21.000000</td>\n",
       "      <td>7.895800</td>\n",
       "      <td>0.000000</td>\n",
       "      <td>0.000000</td>\n",
       "    </tr>\n",
       "    <tr>\n",
       "      <th>50%</th>\n",
       "      <td>28.000000</td>\n",
       "      <td>14.454200</td>\n",
       "      <td>0.000000</td>\n",
       "      <td>0.000000</td>\n",
       "    </tr>\n",
       "    <tr>\n",
       "      <th>75%</th>\n",
       "      <td>39.000000</td>\n",
       "      <td>31.275000</td>\n",
       "      <td>1.000000</td>\n",
       "      <td>0.000000</td>\n",
       "    </tr>\n",
       "    <tr>\n",
       "      <th>max</th>\n",
       "      <td>80.000000</td>\n",
       "      <td>512.329200</td>\n",
       "      <td>8.000000</td>\n",
       "      <td>9.000000</td>\n",
       "    </tr>\n",
       "  </tbody>\n",
       "</table>\n",
       "</div>"
      ],
      "text/plain": [
       "               age         fare        sibsp        parch\n",
       "count  1046.000000  1308.000000  1309.000000  1309.000000\n",
       "mean     29.881135    33.295479     0.498854     0.385027\n",
       "std      14.413500    51.758668     1.041658     0.865560\n",
       "min       0.166700     0.000000     0.000000     0.000000\n",
       "25%      21.000000     7.895800     0.000000     0.000000\n",
       "50%      28.000000    14.454200     0.000000     0.000000\n",
       "75%      39.000000    31.275000     1.000000     0.000000\n",
       "max      80.000000   512.329200     8.000000     9.000000"
      ]
     },
     "execution_count": 126,
     "metadata": {},
     "output_type": "execute_result"
    }
   ],
   "source": [
    "df[['age','fare','sibsp','parch']].describe()"
   ]
  },
  {
   "cell_type": "markdown",
   "metadata": {
    "id": "VE1l_gOTwHuz"
   },
   "source": [
    "## I.2\n",
    "Carilah:\n",
    "1. Missing values dari tiap fitur\n",
    "2. Outliers dari tiap fitur (gunakan metode yang kalian ketahui)"
   ]
  },
  {
   "cell_type": "code",
   "execution_count": 145,
   "metadata": {
    "id": "IGe-YWAvwQDr",
    "scrolled": true
   },
   "outputs": [
    {
     "name": "stdout",
     "output_type": "stream",
     "text": [
      "1. Missing values dari tiap fitur\n",
      "\n",
      "• pclass: 0\n",
      "• name: 0\n",
      "• sex: 0\n",
      "• age: 263\n",
      "• sibsp: 0\n",
      "• parch: 0\n",
      "• ticket: 0\n",
      "• fare: 1\n",
      "• cabin: 1014\n",
      "• embarked: 2\n",
      "\n",
      "       index  pclass  survived                                          name  \\\n",
      "0         0     3.0       1.0                   Abelseth, Miss. Karen Marie   \n",
      "1         1     3.0       0.0                       Burns, Miss. Mary Delia   \n",
      "3         3     3.0       1.0  de Messemaeker, Mrs. Guillaume Joseph (Emma)   \n",
      "4         4     3.0       0.0                     Jonsson, Mr. Nils Hilding   \n",
      "6         6     2.0       0.0                           Enander, Mr. Ingvar   \n",
      "...     ...     ...       ...                                           ...   \n",
      "1301   1301     3.0       0.0              Gronnestad, Mr. Daniel Danielsen   \n",
      "1302   1302     3.0       1.0                     Madsen, Mr. Fridtjof Arne   \n",
      "1304   1304     3.0       1.0                         Dahl, Mr. Karl Edwart   \n",
      "1307   1307     3.0       1.0                Murphy, Miss. Katherine \"Kate\"   \n",
      "1308   1308     3.0       0.0                           Sage, Mr. Frederick   \n",
      "\n",
      "         sex   age  sibsp  parch    ticket     fare cabin embarked  \n",
      "0     female  16.0    0.0    0.0    348125   7.6500   NaN        S  \n",
      "1     female  18.0    0.0    0.0    330963   7.8792   NaN        Q  \n",
      "3     female  36.0    1.0    0.0    345572  17.4000   NaN        S  \n",
      "4       male  27.0    0.0    0.0    350408   7.8542   NaN        S  \n",
      "6       male  21.0    0.0    0.0    236854  13.0000   NaN        S  \n",
      "...      ...   ...    ...    ...       ...      ...   ...      ...  \n",
      "1301    male  32.0    0.0    0.0      8471   8.3625   NaN        S  \n",
      "1302    male  24.0    0.0    0.0   C 17369   7.1417   NaN        S  \n",
      "1304    male  45.0    0.0    0.0      7598   8.0500   NaN        S  \n",
      "1307  female   NaN    1.0    0.0    367230  15.5000   NaN        Q  \n",
      "1308    male   NaN    8.0    2.0  CA. 2343  69.5500   NaN        S  \n",
      "\n",
      "[1039 rows x 12 columns]\n",
      "\n",
      "\n",
      "2. Outliers dari tiap fitur\n",
      "\n",
      "• pclass:\n",
      "\t- Lower bound: 0.5\n",
      "\t- Upper bound: 4.5\n",
      "\n",
      "\t  No outliers\n",
      "\n",
      "• age:\n",
      "\t- Lower bound: -6.0\n",
      "\t- Upper bound: 66.0\n",
      "\n",
      "      index  pclass  survived  \\\n",
      "271     271     1.0       0.0   \n",
      "352     352     1.0       0.0   \n",
      "422     422     2.0       0.0   \n",
      "535     535     1.0       1.0   \n",
      "639     639     3.0       0.0   \n",
      "665     665     3.0       0.0   \n",
      "706     706     1.0       0.0   \n",
      "866     866     1.0       0.0   \n",
      "1265   1265     1.0       1.0   \n",
      "\n",
      "                                                   name     sex   age  sibsp  \\\n",
      "271                             Artagaveytia, Mr. Ramon    male  71.0    0.0   \n",
      "352                        Crosby, Capt. Edward Gifford    male  70.0    1.0   \n",
      "422                         Mitchell, Mr. Henry Michael    male  70.0    0.0   \n",
      "535   Cavendish, Mrs. Tyrell William (Julia Florence...  female  76.0    1.0   \n",
      "639                                 Svensson, Mr. Johan    male  74.0    0.0   \n",
      "665                                Connors, Mr. Patrick    male  70.5    0.0   \n",
      "706                           Goldschmidt, Mr. George B    male  71.0    0.0   \n",
      "866                                  Straus, Mr. Isidor    male  67.0    1.0   \n",
      "1265               Barkworth, Mr. Algernon Henry Wilson    male  80.0    0.0   \n",
      "\n",
      "      parch      ticket      fare    cabin embarked  \n",
      "271     0.0    PC 17609   49.5042      NaN        C  \n",
      "352     1.0   WE/P 5735   71.0000      B22        S  \n",
      "422     0.0  C.A. 24580   10.5000      NaN        S  \n",
      "535     0.0       19877   78.8500      C46        S  \n",
      "639     0.0      347060    7.7750      NaN        S  \n",
      "665     0.0      370369    7.7500      NaN        Q  \n",
      "706     0.0    PC 17754   34.6542       A5        C  \n",
      "866     0.0    PC 17483  221.7792  C55 C57        S  \n",
      "1265    0.0       27042   30.0000      A23        S  \n",
      "Jumlah: 9\n",
      "\n",
      "• sibsp:\n",
      "\t- Lower bound: -1.5\n",
      "\t- Upper bound: 2.5\n",
      "\n",
      "      index  pclass  survived  \\\n",
      "2         2     1.0       1.0   \n",
      "25       25     3.0       0.0   \n",
      "43       43     3.0       0.0   \n",
      "55       55     3.0       0.0   \n",
      "98       98     3.0       0.0   \n",
      "103     103     3.0       0.0   \n",
      "110     110     3.0       0.0   \n",
      "117     117     1.0       1.0   \n",
      "131     131     3.0       0.0   \n",
      "151     151     3.0       0.0   \n",
      "177     177     3.0       0.0   \n",
      "179     179     3.0       0.0   \n",
      "244     244     3.0       0.0   \n",
      "317     317     3.0       0.0   \n",
      "318     318     3.0       0.0   \n",
      "340     340     3.0       0.0   \n",
      "368     368     3.0       0.0   \n",
      "375     375     3.0       0.0   \n",
      "441     441     3.0       0.0   \n",
      "454     454     3.0       0.0   \n",
      "459     459     3.0       0.0   \n",
      "476     476     3.0       1.0   \n",
      "484     484     3.0       0.0   \n",
      "485     485     3.0       0.0   \n",
      "505     505     3.0       0.0   \n",
      "516     516     1.0       0.0   \n",
      "527     527     3.0       1.0   \n",
      "530     530     3.0       0.0   \n",
      "540     540     3.0       0.0   \n",
      "576     576     3.0       0.0   \n",
      "580     580     3.0       0.0   \n",
      "617     617     3.0       0.0   \n",
      "643     643     3.0       0.0   \n",
      "652     652     3.0       0.0   \n",
      "713     713     3.0       0.0   \n",
      "731     731     3.0       1.0   \n",
      "743     743     3.0       0.0   \n",
      "766     766     3.0       0.0   \n",
      "772     772     3.0       0.0   \n",
      "794     794     1.0       1.0   \n",
      "817     817     3.0       0.0   \n",
      "843     843     3.0       1.0   \n",
      "849     849     3.0       0.0   \n",
      "880     880     3.0       0.0   \n",
      "939     939     3.0       0.0   \n",
      "955     955     3.0       0.0   \n",
      "982     982     3.0       1.0   \n",
      "986     986     3.0       0.0   \n",
      "998     998     3.0       0.0   \n",
      "1020   1020     3.0       0.0   \n",
      "1029   1029     3.0       0.0   \n",
      "1032   1032     3.0       0.0   \n",
      "1035   1035     2.0       1.0   \n",
      "1180   1180     3.0       0.0   \n",
      "1192   1192     3.0       0.0   \n",
      "1203   1203     3.0       0.0   \n",
      "1308   1308     3.0       0.0   \n",
      "\n",
      "                                                   name     sex   age  sibsp  \\\n",
      "2                        Fortune, Miss. Alice Elizabeth  female  24.0    3.0   \n",
      "25                          Goodwin, Mr. Charles Edward    male  14.0    5.0   \n",
      "43                        Palsson, Miss. Torborg Danira  female   8.0    3.0   \n",
      "55                                 Rice, Master. Arthur    male   4.0    4.0   \n",
      "98                                 Rice, Master. Albert    male  10.0    4.0   \n",
      "103                                  Lefebre, Miss. Ida  female   NaN    3.0   \n",
      "110                   Andersson, Miss. Sigrid Elisabeth  female  11.0    4.0   \n",
      "117                          Fortune, Miss. Ethel Flora  female  28.0    3.0   \n",
      "131                             Lefebre, Miss. Mathilde  female   NaN    3.0   \n",
      "151                        Skoog, Master. Karl Thorsten    male  10.0    3.0   \n",
      "177                  Goodwin, Master. William Frederick    male  11.0    5.0   \n",
      "179                          Palsson, Miss. Stina Viola  female   3.0    3.0   \n",
      "244                                  Skoog, Miss. Mabel  female   9.0    3.0   \n",
      "317             Andersson, Master. Sigvard Harald Elias    male   4.0    4.0   \n",
      "318               Asplund, Master. Clarence Gustaf Hugo    male   9.0    4.0   \n",
      "340                                     Sage, Miss. Ada  female   NaN    8.0   \n",
      "368                          Sage, Master. Thomas Henry    male   NaN    8.0   \n",
      "375                         Goodwin, Miss. Jessie Allis  female  10.0    5.0   \n",
      "441                        Sage, Miss. Constance Gladys  female   NaN    8.0   \n",
      "454                       Lefebre, Master. Henry Forbes    male   NaN    3.0   \n",
      "459                        Asplund, Master. Filip Oscar    male  13.0    4.0   \n",
      "476                     Andersson, Miss. Erna Alexandra  female  17.0    4.0   \n",
      "484                      Palsson, Master. Gosta Leonard    male   2.0    3.0   \n",
      "485                  Andersson, Miss. Ebba Iris Alfrida  female   6.0    4.0   \n",
      "505                        Panula, Master. Urho Abraham    male   2.0    4.0   \n",
      "516                      Fortune, Mr. Charles Alexander    male  19.0    3.0   \n",
      "527                            Kink-Heilmann, Mr. Anton    male  29.0    3.0   \n",
      "530                             Sage, Miss. Stella Anna  female   NaN    8.0   \n",
      "540                           Vander Planke, Mr. Julius    male  31.0    3.0   \n",
      "576                          Goodwin, Miss. Lillian Amy  female  16.0    5.0   \n",
      "580                   Sage, Miss. Dorothy Edith \"Dolly\"  female   NaN    8.0   \n",
      "617                           Rice, Master. George Hugh    male   8.0    4.0   \n",
      "643                       Skoog, Miss. Margit Elizabeth  female   2.0    3.0   \n",
      "652                         Palsson, Master. Paul Folke    male   6.0    3.0   \n",
      "713                         Asplund, Master. Carl Edgar    male   5.0    4.0   \n",
      "731                      Asplund, Miss. Lillian Gertrud  female   5.0    4.0   \n",
      "743                               Skoog, Master. Harald    male   4.0    3.0   \n",
      "766                            Panula, Mr. Jaako Arnold    male  14.0    4.0   \n",
      "772                         Sage, Master. William Henry    male  14.5    8.0   \n",
      "794                          Fortune, Miss. Mabel Helen  female  23.0    3.0   \n",
      "817                Andersson, Miss. Ingeborg Constanzia  female   9.0    4.0   \n",
      "843                   Asplund, Master. Edvin Rojj Felix    male   3.0    4.0   \n",
      "849                     Goodwin, Master. Sidney Leonard    male   1.0    5.0   \n",
      "880                      Goodwin, Master. Harold Victor    male   9.0    5.0   \n",
      "939                            Sage, Mr. George John Jr    male   NaN    8.0   \n",
      "955                           Panula, Mr. Ernesti Arvid    male  16.0    4.0   \n",
      "982   Backstrom, Mrs. Karl Alfred (Maria Mathilda Gu...  female  33.0    3.0   \n",
      "986                              Lefebre, Miss. Jeannie  female   NaN    3.0   \n",
      "998                          Panula, Master. Juha Niilo    male   7.0    4.0   \n",
      "1020                           Sage, Mr. Douglas Bullen    male   NaN    8.0   \n",
      "1029                               Rice, Master. Eugene    male   2.0    4.0   \n",
      "1032                       Panula, Master. Eino Viljami    male   1.0    4.0   \n",
      "1035        Renouf, Mrs. Peter Henry (Lillian Jefferys)  female  30.0    3.0   \n",
      "1180             Andersson, Miss. Ida Augusta Margareta  female  38.0    4.0   \n",
      "1192                                 Rice, Master. Eric    male   7.0    4.0   \n",
      "1203                  Andersson, Miss. Ellis Anna Maria  female   2.0    4.0   \n",
      "1308                                Sage, Mr. Frederick    male   NaN    8.0   \n",
      "\n",
      "      parch    ticket      fare        cabin embarked  \n",
      "2       2.0     19950  263.0000  C23 C25 C27        S  \n",
      "25      2.0   CA 2144   46.9000          NaN        S  \n",
      "43      1.0    349909   21.0750          NaN        S  \n",
      "55      1.0    382652   29.1250          NaN        Q  \n",
      "98      1.0    382652   29.1250          NaN        Q  \n",
      "103     1.0      4133   25.4667          NaN        S  \n",
      "110     2.0    347082   31.2750          NaN        S  \n",
      "117     2.0     19950  263.0000  C23 C25 C27        S  \n",
      "131     1.0      4133   25.4667          NaN        S  \n",
      "151     2.0    347088   27.9000          NaN        S  \n",
      "177     2.0   CA 2144   46.9000          NaN        S  \n",
      "179     1.0    349909   21.0750          NaN        S  \n",
      "244     2.0    347088   27.9000          NaN        S  \n",
      "317     2.0    347082   31.2750          NaN        S  \n",
      "318     2.0    347077   31.3875          NaN        S  \n",
      "340     2.0  CA. 2343   69.5500          NaN        S  \n",
      "368     2.0  CA. 2343   69.5500          NaN        S  \n",
      "375     2.0   CA 2144   46.9000          NaN        S  \n",
      "441     2.0  CA. 2343   69.5500          NaN        S  \n",
      "454     1.0      4133   25.4667          NaN        S  \n",
      "459     2.0    347077   31.3875          NaN        S  \n",
      "476     2.0   3101281    7.9250          NaN        S  \n",
      "484     1.0    349909   21.0750          NaN        S  \n",
      "485     2.0    347082   31.2750          NaN        S  \n",
      "505     1.0   3101295   39.6875          NaN        S  \n",
      "516     2.0     19950  263.0000  C23 C25 C27        S  \n",
      "527     1.0    315153   22.0250          NaN        S  \n",
      "530     2.0  CA. 2343   69.5500          NaN        S  \n",
      "540     0.0    345763   18.0000          NaN        S  \n",
      "576     2.0   CA 2144   46.9000          NaN        S  \n",
      "580     2.0  CA. 2343   69.5500          NaN        S  \n",
      "617     1.0    382652   29.1250          NaN        Q  \n",
      "643     2.0    347088   27.9000          NaN        S  \n",
      "652     1.0    349909   21.0750          NaN        S  \n",
      "713     2.0    347077   31.3875          NaN        S  \n",
      "731     2.0    347077   31.3875          NaN        S  \n",
      "743     2.0    347088   27.9000          NaN        S  \n",
      "766     1.0   3101295   39.6875          NaN        S  \n",
      "772     2.0  CA. 2343   69.5500          NaN        S  \n",
      "794     2.0     19950  263.0000  C23 C25 C27        S  \n",
      "817     2.0    347082   31.2750          NaN        S  \n",
      "843     2.0    347077   31.3875          NaN        S  \n",
      "849     2.0   CA 2144   46.9000          NaN        S  \n",
      "880     2.0   CA 2144   46.9000          NaN        S  \n",
      "939     2.0  CA. 2343   69.5500          NaN        S  \n",
      "955     1.0   3101295   39.6875          NaN        S  \n",
      "982     0.0   3101278   15.8500          NaN        S  \n",
      "986     1.0      4133   25.4667          NaN        S  \n",
      "998     1.0   3101295   39.6875          NaN        S  \n",
      "1020    2.0  CA. 2343   69.5500          NaN        S  \n",
      "1029    1.0    382652   29.1250          NaN        Q  \n",
      "1032    1.0   3101295   39.6875          NaN        S  \n",
      "1035    0.0     31027   21.0000          NaN        S  \n",
      "1180    2.0    347091    7.7750          NaN        S  \n",
      "1192    1.0    382652   29.1250          NaN        Q  \n",
      "1203    2.0    347082   31.2750          NaN        S  \n",
      "1308    2.0  CA. 2343   69.5500          NaN        S  \n",
      "Jumlah: 57\n",
      "\n",
      "• parch:\n",
      "\t- Lower bound: 0.0\n",
      "\t- Upper bound: 0.0\n",
      "\n",
      "      index  pclass  survived  \\\n",
      "2         2     1.0       1.0   \n",
      "10       10     3.0       0.0   \n",
      "15       15     1.0       1.0   \n",
      "17       17     1.0       0.0   \n",
      "22       22     3.0       0.0   \n",
      "...     ...     ...       ...   \n",
      "1291   1291     1.0       1.0   \n",
      "1294   1294     1.0       1.0   \n",
      "1296   1296     3.0       1.0   \n",
      "1306   1306     2.0       1.0   \n",
      "1308   1308     3.0       0.0   \n",
      "\n",
      "                                                   name     sex      age  \\\n",
      "2                        Fortune, Miss. Alice Elizabeth  female  24.0000   \n",
      "10                               Johnston, Mr. Andrew G    male      NaN   \n",
      "15        Graham, Mrs. William Thompson (Edith Junkins)  female  58.0000   \n",
      "17                             Thayer, Mr. John Borland    male  49.0000   \n",
      "22                                 Boulos, Master. Akar    male   6.0000   \n",
      "...                                                 ...     ...      ...   \n",
      "1291         Wick, Mrs. George Dennick (Mary Hitchcock)  female  45.0000   \n",
      "1294  Spedden, Mrs. Frederic Oakley (Margaretta Corn...  female  40.0000   \n",
      "1296                    Thomas, Master. Assad Alexander    male   0.4167   \n",
      "1306                       Becker, Miss. Ruth Elizabeth  female  12.0000   \n",
      "1308                                Sage, Mr. Frederick    male      NaN   \n",
      "\n",
      "      sibsp  parch      ticket      fare        cabin embarked  \n",
      "2       3.0    2.0       19950  263.0000  C23 C25 C27        S  \n",
      "10      1.0    2.0  W./C. 6607   23.4500          NaN        S  \n",
      "15      0.0    1.0    PC 17582  153.4625         C125        S  \n",
      "17      1.0    1.0       17421  110.8833          C68        C  \n",
      "22      1.0    1.0        2678   15.2458          NaN        C  \n",
      "...     ...    ...         ...       ...          ...      ...  \n",
      "1291    1.0    1.0       36928  164.8667          NaN        S  \n",
      "1294    1.0    1.0       16966  134.5000          E34        C  \n",
      "1296    0.0    1.0        2625    8.5167          NaN        C  \n",
      "1306    2.0    1.0      230136   39.0000           F4        S  \n",
      "1308    8.0    2.0    CA. 2343   69.5500          NaN        S  \n",
      "\n",
      "[307 rows x 12 columns]\n",
      "Jumlah: 307\n",
      "\n",
      "• fare:\n",
      "\t- Lower bound: -27.172999999999995\n",
      "\t- Upper bound: 66.34379999999999\n",
      "\n",
      "      index  pclass  survived  \\\n",
      "2         2     1.0       1.0   \n",
      "11       11     1.0       0.0   \n",
      "12       12     1.0       1.0   \n",
      "15       15     1.0       1.0   \n",
      "17       17     1.0       0.0   \n",
      "...     ...     ...       ...   \n",
      "1294   1294     1.0       1.0   \n",
      "1298   1298     1.0       1.0   \n",
      "1303   1303     1.0       0.0   \n",
      "1305   1305     1.0       0.0   \n",
      "1308   1308     3.0       0.0   \n",
      "\n",
      "                                                   name     sex   age  sibsp  \\\n",
      "2                        Fortune, Miss. Alice Elizabeth  female  24.0    3.0   \n",
      "11                           Payne, Mr. Vivian Ponsonby    male  23.0    0.0   \n",
      "12                             Goldenberg, Mr. Samuel L    male  49.0    1.0   \n",
      "15        Graham, Mrs. William Thompson (Edith Junkins)  female  58.0    0.0   \n",
      "17                             Thayer, Mr. John Borland    male  49.0    1.0   \n",
      "...                                                 ...     ...   ...    ...   \n",
      "1294  Spedden, Mrs. Frederic Oakley (Margaretta Corn...  female  40.0    1.0   \n",
      "1298    Stephenson, Mrs. Walter Bertram (Martha Eustis)  female  52.0    1.0   \n",
      "1303                             Astor, Col. John Jacob    male  47.0    1.0   \n",
      "1305         Penasco y Castellana, Mr. Victor de Satode    male  18.0    1.0   \n",
      "1308                                Sage, Mr. Frederick    male   NaN    8.0   \n",
      "\n",
      "      parch    ticket      fare        cabin embarked  \n",
      "2       2.0     19950  263.0000  C23 C25 C27        S  \n",
      "11      0.0     12749   93.5000          B24        S  \n",
      "12      0.0     17453   89.1042          C92        C  \n",
      "15      1.0  PC 17582  153.4625         C125        S  \n",
      "17      1.0     17421  110.8833          C68        C  \n",
      "...     ...       ...       ...          ...      ...  \n",
      "1294    1.0     16966  134.5000          E34        C  \n",
      "1298    0.0     36947   78.2667          D20        C  \n",
      "1303    0.0  PC 17757  227.5250      C62 C64        C  \n",
      "1305    0.0  PC 17758  108.9000          C65        C  \n",
      "1308    2.0  CA. 2343   69.5500          NaN        S  \n",
      "\n",
      "[171 rows x 12 columns]\n",
      "Jumlah: 171\n"
     ]
    }
   ],
   "source": [
    "# I.2 Put your code here\n",
    "\n",
    "print(\"1. Missing values dari tiap fitur\\n\")\n",
    "\n",
    "for column in df.columns[1:]:\n",
    "    if (column != \"survived\"):\n",
    "        print(\"• \"+column+str(\": \")+str(len(df[df[column].isna()])))\n",
    "\n",
    "print(\"\\n\", df[df.isna().any(axis=1)])\n",
    "\n",
    "print(\"\\n\\n2. Outliers dari tiap fitur\")\n",
    "\n",
    "for column in df.columns[1:]:\n",
    "    if (is_numeric_dtype(df[column]) and column != \"survived\"):\n",
    "        print(\"\\n• \"+column+str(\":\"))\n",
    "        q1 = df[column].quantile(0.25)\n",
    "        q3 = df[column].quantile(0.75)\n",
    "        iqr = q3-q1\n",
    "        lower_bound = q1-1.5*iqr\n",
    "        upper_bound = q3+1.5*iqr\n",
    "        outliers = df.loc[(df[column]<lower_bound) | (df[column]>upper_bound)]\n",
    "        print(\"\\t- Lower bound: \"+str(lower_bound))\n",
    "        print(\"\\t- Upper bound: \"+str(upper_bound)+\"\\n\")\n",
    "        if (len(outliers) == 0):\n",
    "            print(\"\\t  No outliers\")\n",
    "        else:\n",
    "            print(str(outliers))\n",
    "            print(\"Jumlah: \"+str(len(outliers)))"
   ]
  },
  {
   "cell_type": "markdown",
   "metadata": {},
   "source": [
    "Age yang NaN dapat diisi dengan age rata-rata. Fare yang NaN dapat diisi dengan fare rata-rata untuk kelas tiket bersangkutan (kelas tiket ditandai oleh fitur pclass). Embarked yang kosong dapat diisi dengan port frekuensi tertinggi pada fitur embarked.\n",
    "\n",
    "Age yang outliers masih berada dalam rentang umur wajar bagi manusia, maka tidak akan dianggap outlier, karena data kemungkinan besar betul. SibSp yang outliers masih berada dalam rentang wajar. Pada kasus ekstrim SibSp bernilai 8 dapat mengindikasikan 8 saudara, atau 7 saudara dan 1 suami atau istri. Sebagai contoh adalah Stella Anne Sage (https://www.encyclopedia-titanica.org/titanic-victim/stella-anne-sage.html). ParCh yang outliers juga masih berada dalam rentang wajar. Data dianggap outlier karena mayoritas nilai ParCh adalah 0. Fare yang outliers dapat diteliti ulang berdasarkan sumber berikut (https://lisbdnet.com/how-much-did-tickets-cost-for-the-titanic/). Melihat nilai maksimum fare dalam data adalah £512 dan harga tiket first class diestimasi £870, serta tidak ada nilai fare yang negatif, maka data fare dapat dianggap benar. Untuk menangani dampak nilai ekstrim pada data kontinu fare, dapat dilakukan scaling/normalisasi."
   ]
  },
  {
   "cell_type": "markdown",
   "metadata": {
    "id": "8tUGStQ_wR4P"
   },
   "source": [
    "## I.3\n",
    "Carilah:\n",
    "1. Korelasi antar fitur"
   ]
  },
  {
   "cell_type": "code",
   "execution_count": 95,
   "metadata": {},
   "outputs": [
    {
     "data": {
      "text/html": [
       "<div>\n",
       "<style scoped>\n",
       "    .dataframe tbody tr th:only-of-type {\n",
       "        vertical-align: middle;\n",
       "    }\n",
       "\n",
       "    .dataframe tbody tr th {\n",
       "        vertical-align: top;\n",
       "    }\n",
       "\n",
       "    .dataframe thead th {\n",
       "        text-align: right;\n",
       "    }\n",
       "</style>\n",
       "<table border=\"1\" class=\"dataframe\">\n",
       "  <thead>\n",
       "    <tr style=\"text-align: right;\">\n",
       "      <th></th>\n",
       "      <th>index</th>\n",
       "      <th>pclass</th>\n",
       "      <th>survived</th>\n",
       "      <th>age</th>\n",
       "      <th>sibsp</th>\n",
       "      <th>parch</th>\n",
       "      <th>fare</th>\n",
       "    </tr>\n",
       "  </thead>\n",
       "  <tbody>\n",
       "    <tr>\n",
       "      <th>index</th>\n",
       "      <td>1.000000</td>\n",
       "      <td>-0.003466</td>\n",
       "      <td>0.002967</td>\n",
       "      <td>-0.003376</td>\n",
       "      <td>-0.015501</td>\n",
       "      <td>-0.013538</td>\n",
       "      <td>-0.022424</td>\n",
       "    </tr>\n",
       "    <tr>\n",
       "      <th>pclass</th>\n",
       "      <td>-0.003466</td>\n",
       "      <td>1.000000</td>\n",
       "      <td>-0.312469</td>\n",
       "      <td>-0.408106</td>\n",
       "      <td>0.060832</td>\n",
       "      <td>0.018322</td>\n",
       "      <td>-0.558629</td>\n",
       "    </tr>\n",
       "    <tr>\n",
       "      <th>survived</th>\n",
       "      <td>0.002967</td>\n",
       "      <td>-0.312469</td>\n",
       "      <td>1.000000</td>\n",
       "      <td>-0.055513</td>\n",
       "      <td>-0.027825</td>\n",
       "      <td>0.082660</td>\n",
       "      <td>0.244265</td>\n",
       "    </tr>\n",
       "    <tr>\n",
       "      <th>age</th>\n",
       "      <td>-0.003376</td>\n",
       "      <td>-0.408106</td>\n",
       "      <td>-0.055513</td>\n",
       "      <td>1.000000</td>\n",
       "      <td>-0.243699</td>\n",
       "      <td>-0.150917</td>\n",
       "      <td>0.178739</td>\n",
       "    </tr>\n",
       "    <tr>\n",
       "      <th>sibsp</th>\n",
       "      <td>-0.015501</td>\n",
       "      <td>0.060832</td>\n",
       "      <td>-0.027825</td>\n",
       "      <td>-0.243699</td>\n",
       "      <td>1.000000</td>\n",
       "      <td>0.373587</td>\n",
       "      <td>0.160238</td>\n",
       "    </tr>\n",
       "    <tr>\n",
       "      <th>parch</th>\n",
       "      <td>-0.013538</td>\n",
       "      <td>0.018322</td>\n",
       "      <td>0.082660</td>\n",
       "      <td>-0.150917</td>\n",
       "      <td>0.373587</td>\n",
       "      <td>1.000000</td>\n",
       "      <td>0.221539</td>\n",
       "    </tr>\n",
       "    <tr>\n",
       "      <th>fare</th>\n",
       "      <td>-0.022424</td>\n",
       "      <td>-0.558629</td>\n",
       "      <td>0.244265</td>\n",
       "      <td>0.178739</td>\n",
       "      <td>0.160238</td>\n",
       "      <td>0.221539</td>\n",
       "      <td>1.000000</td>\n",
       "    </tr>\n",
       "  </tbody>\n",
       "</table>\n",
       "</div>"
      ],
      "text/plain": [
       "             index    pclass  survived       age     sibsp     parch      fare\n",
       "index     1.000000 -0.003466  0.002967 -0.003376 -0.015501 -0.013538 -0.022424\n",
       "pclass   -0.003466  1.000000 -0.312469 -0.408106  0.060832  0.018322 -0.558629\n",
       "survived  0.002967 -0.312469  1.000000 -0.055513 -0.027825  0.082660  0.244265\n",
       "age      -0.003376 -0.408106 -0.055513  1.000000 -0.243699 -0.150917  0.178739\n",
       "sibsp    -0.015501  0.060832 -0.027825 -0.243699  1.000000  0.373587  0.160238\n",
       "parch    -0.013538  0.018322  0.082660 -0.150917  0.373587  1.000000  0.221539\n",
       "fare     -0.022424 -0.558629  0.244265  0.178739  0.160238  0.221539  1.000000"
      ]
     },
     "execution_count": 95,
     "metadata": {},
     "output_type": "execute_result"
    }
   ],
   "source": [
    "df.corr()"
   ]
  },
  {
   "cell_type": "markdown",
   "metadata": {},
   "source": [
    "Dapat dilihat bahwa fitur yang memiliki korelasi tinggi yaitu sebagai berikut.\n",
    "\n",
    "    - pclass dan survived\n",
    "    - pclass dan age\n",
    "    - pclass dan fare \n",
    "    - survived dan fare\n",
    "    - age dan sibsp\n",
    "    - age dan parch\n",
    "    - age dan fare\n",
    "    - sibsp dan parch\n",
    "    - sibsp dan fare\n",
    "    - parch dan fare"
   ]
  },
  {
   "cell_type": "markdown",
   "metadata": {},
   "source": [
    "2. Visualisasikan distribusi dari tiap fitur (kategorikal dan kontinu)"
   ]
  },
  {
   "cell_type": "code",
   "execution_count": 75,
   "metadata": {
    "id": "XoBqyQA1wRNX"
   },
   "outputs": [
    {
     "data": {
      "text/plain": [
       "Text(0.5, 1.0, 'pclass')"
      ]
     },
     "execution_count": 75,
     "metadata": {},
     "output_type": "execute_result"
    },
    {
     "data": {
      "image/png": "[encoded data removed]",
      "text/plain": [
       "<Figure size 432x288 with 1 Axes>"
      ]
     },
     "metadata": {
      "needs_background": "light"
     },
     "output_type": "display_data"
    }
   ],
   "source": [
    "plt.hist(df['pclass'], color = 'blue')\n",
    "plt.title('pclass')"
   ]
  },
  {
   "cell_type": "code",
   "execution_count": 116,
   "metadata": {
    "scrolled": false
   },
   "outputs": [
    {
     "data": {
      "text/plain": [
       "Text(0.5, 1.0, 'sex')"
      ]
     },
     "execution_count": 116,
     "metadata": {},
     "output_type": "execute_result"
    },
    {
     "data": {
      "image/png": "[encoded data removed]",
      "text/plain": [
       "<Figure size 432x288 with 1 Axes>"
      ]
     },
     "metadata": {
      "needs_background": "light"
     },
     "output_type": "display_data"
    }
   ],
   "source": [
    "plt.hist(df['sex'], color = 'blue')\n",
    "plt.title('sex')"
   ]
  },
  {
   "cell_type": "code",
   "execution_count": 115,
   "metadata": {},
   "outputs": [
    {
     "data": {
      "text/plain": [
       "Text(0.5, 1.0, 'age')"
      ]
     },
     "execution_count": 115,
     "metadata": {},
     "output_type": "execute_result"
    },
    {
     "data": {
      "image/png": "[encoded data removed]",
      "text/plain": [
       "<Figure size 432x288 with 1 Axes>"
      ]
     },
     "metadata": {
      "needs_background": "light"
     },
     "output_type": "display_data"
    }
   ],
   "source": [
    "plt.hist(df['age'], color = 'blue')\n",
    "plt.title('age')"
   ]
  },
  {
   "cell_type": "code",
   "execution_count": 117,
   "metadata": {},
   "outputs": [
    {
     "data": {
      "text/plain": [
       "Text(0.5, 1.0, 'fare')"
      ]
     },
     "execution_count": 117,
     "metadata": {},
     "output_type": "execute_result"
    },
    {
     "data": {
      "image/png": "[encoded data removed]",
      "text/plain": [
       "<Figure size 432x288 with 1 Axes>"
      ]
     },
     "metadata": {
      "needs_background": "light"
     },
     "output_type": "display_data"
    }
   ],
   "source": [
    "plt.hist(df['fare'], color = 'blue')\n",
    "plt.title('fare')"
   ]
  },
  {
   "cell_type": "code",
   "execution_count": 118,
   "metadata": {},
   "outputs": [
    {
     "data": {
      "text/plain": [
       "Text(0.5, 1.0, 'sibsp')"
      ]
     },
     "execution_count": 118,
     "metadata": {},
     "output_type": "execute_result"
    },
    {
     "data": {
      "image/png": "[encoded data removed]",
      "text/plain": [
       "<Figure size 432x288 with 1 Axes>"
      ]
     },
     "metadata": {
      "needs_background": "light"
     },
     "output_type": "display_data"
    }
   ],
   "source": [
    "plt.hist(df['sibsp'], color = 'blue')\n",
    "plt.title('sibsp')"
   ]
  },
  {
   "cell_type": "code",
   "execution_count": 119,
   "metadata": {},
   "outputs": [
    {
     "data": {
      "text/plain": [
       "Text(0.5, 1.0, 'parch')"
      ]
     },
     "execution_count": 119,
     "metadata": {},
     "output_type": "execute_result"
    },
    {
     "data": {
      "image/png": "[encoded data removed]",
      "text/plain": [
       "<Figure size 432x288 with 1 Axes>"
      ]
     },
     "metadata": {
      "needs_background": "light"
     },
     "output_type": "display_data"
    }
   ],
   "source": [
    "plt.hist(df['parch'], color = 'blue')\n",
    "plt.title('parch')"
   ]
  },
  {
   "cell_type": "markdown",
   "metadata": {},
   "source": [
    "3. Visualisasikan distribusi dari tiap fitur, dengan data dibagi tiap unique values fitur survived"
   ]
  },
  {
   "cell_type": "code",
   "execution_count": 113,
   "metadata": {},
   "outputs": [
    {
     "data": {
      "text/plain": [
       "Text(0.5, 1.0, 'pclass')"
      ]
     },
     "execution_count": 113,
     "metadata": {},
     "output_type": "execute_result"
    },
    {
     "data": {
      "image/png": "[encoded data removed]",
      "text/plain": [
       "<Figure size 432x288 with 1 Axes>"
      ]
     },
     "metadata": {
      "needs_background": "light"
     },
     "output_type": "display_data"
    }
   ],
   "source": [
    "plt.hist(pd.unique(df['pclass']), color = 'blue')\n",
    "plt.title('pclass')"
   ]
  },
  {
   "cell_type": "code",
   "execution_count": 120,
   "metadata": {},
   "outputs": [
    {
     "data": {
      "text/plain": [
       "Text(0.5, 1.0, 'sex')"
      ]
     },
     "execution_count": 120,
     "metadata": {},
     "output_type": "execute_result"
    },
    {
     "data": {
      "image/png": "[encoded data removed]",
      "text/plain": [
       "<Figure size 432x288 with 1 Axes>"
      ]
     },
     "metadata": {
      "needs_background": "light"
     },
     "output_type": "display_data"
    }
   ],
   "source": [
    "plt.hist(pd.unique(df['sex']), color = 'blue')\n",
    "plt.title('sex')"
   ]
  },
  {
   "cell_type": "code",
   "execution_count": 114,
   "metadata": {},
   "outputs": [
    {
     "data": {
      "text/plain": [
       "Text(0.5, 1.0, 'age')"
      ]
     },
     "execution_count": 114,
     "metadata": {},
     "output_type": "execute_result"
    },
    {
     "data": {
      "image/png": "[encoded data removed]",
      "text/plain": [
       "<Figure size 432x288 with 1 Axes>"
      ]
     },
     "metadata": {
      "needs_background": "light"
     },
     "output_type": "display_data"
    }
   ],
   "source": [
    "plt.hist(pd.unique(df['age']), color = 'blue')\n",
    "plt.title('age')"
   ]
  },
  {
   "cell_type": "code",
   "execution_count": 122,
   "metadata": {},
   "outputs": [
    {
     "data": {
      "text/plain": [
       "Text(0.5, 1.0, 'fare')"
      ]
     },
     "execution_count": 122,
     "metadata": {},
     "output_type": "execute_result"
    },
    {
     "data": {
      "image/png": "[encoded data removed]",
      "text/plain": [
       "<Figure size 432x288 with 1 Axes>"
      ]
     },
     "metadata": {
      "needs_background": "light"
     },
     "output_type": "display_data"
    }
   ],
   "source": [
    "plt.hist(pd.unique(df['fare']), color = 'blue')\n",
    "plt.title('fare')"
   ]
  },
  {
   "cell_type": "code",
   "execution_count": 123,
   "metadata": {},
   "outputs": [
    {
     "data": {
      "text/plain": [
       "Text(0.5, 1.0, 'sibsp')"
      ]
     },
     "execution_count": 123,
     "metadata": {},
     "output_type": "execute_result"
    },
    {
     "data": {
      "image/png": "[encoded data removed]",
      "text/plain": [
       "<Figure size 432x288 with 1 Axes>"
      ]
     },
     "metadata": {
      "needs_background": "light"
     },
     "output_type": "display_data"
    }
   ],
   "source": [
    "plt.hist(pd.unique(df['sibsp']), color = 'blue')\n",
    "plt.title('sibsp')"
   ]
  },
  {
   "cell_type": "code",
   "execution_count": 124,
   "metadata": {},
   "outputs": [
    {
     "data": {
      "text/plain": [
       "Text(0.5, 1.0, 'parch')"
      ]
     },
     "execution_count": 124,
     "metadata": {},
     "output_type": "execute_result"
    },
    {
     "data": {
      "image/png": "[encoded data removed]",
      "text/plain": [
       "<Figure size 432x288 with 1 Axes>"
      ]
     },
     "metadata": {
      "needs_background": "light"
     },
     "output_type": "display_data"
    }
   ],
   "source": [
    "plt.hist(pd.unique(df['parch']), color = 'blue')\n",
    "plt.title('parch')"
   ]
  },
  {
   "cell_type": "markdown",
   "metadata": {
    "id": "kV3BDt235mdz"
   },
   "source": [
    "## I.4\n",
    "Lakukanlah analisa pada data lebih lanjut jika dibutuhkan, kemudian lakukanlah:\n",
    "1. Penambahan fitur jika memungkinkan\n",
    "2. Pembuangan fitur yang menurut kalian tidak dibutuhkan\n",
    "3. Penanganan missing values\n",
    "4. Transformasi data kategorikal menjadi numerikal (encoding), dengan metode yang kalian inginkan\n",
    "5. Lakukan scaling dengan MinMaxScaler"
   ]
  },
  {
   "cell_type": "code",
   "execution_count": 186,
   "metadata": {
    "id": "jlTGspG_56re",
    "scrolled": true
   },
   "outputs": [
    {
     "name": "stdout",
     "output_type": "stream",
     "text": [
      "Title count:\n",
      "• Miss: 260\n",
      "• Mrs: 197\n",
      "• Mr: 757\n",
      "• Master: 61\n",
      "• Dr: 8\n",
      "• Rev: 8\n",
      "• Don: 1\n",
      "• Col: 4\n",
      "• Mme: 1\n",
      "• Capt: 1\n",
      "• Sir: 1\n",
      "• Ms: 2\n",
      "• the Countess: 1\n",
      "• Dona: 1\n",
      "• Mlle: 2\n",
      "• Major: 2\n",
      "• Lady: 1\n",
      "• Jonkheer: 1\n",
      "\n",
      "Dataset dengan fitur ditambahkan/dihilangkan:\n",
      "      pclass title             last_name     sex   age  sibsp  parch  \\\n",
      "0        3.0  Miss              Abelseth  female  16.0    0.0    0.0   \n",
      "1        3.0  Miss                 Burns  female  18.0    0.0    0.0   \n",
      "2        1.0  Miss               Fortune  female  24.0    3.0    2.0   \n",
      "3        3.0   Mrs        de Messemaeker  female  36.0    1.0    0.0   \n",
      "4        3.0    Mr               Jonsson    male  27.0    0.0    0.0   \n",
      "...      ...   ...                   ...     ...   ...    ...    ...   \n",
      "1304     3.0    Mr                  Dahl    male  45.0    0.0    0.0   \n",
      "1305     1.0    Mr  Penasco y Castellana    male  18.0    1.0    0.0   \n",
      "1306     2.0  Miss                Becker  female  12.0    2.0    1.0   \n",
      "1307     3.0  Miss                Murphy  female   NaN    1.0    0.0   \n",
      "1308     3.0    Mr                  Sage    male   NaN    8.0    2.0   \n",
      "\n",
      "     ticket_code      fare embarked  survived  \n",
      "0           NONE    7.6500        S       1.0  \n",
      "1           NONE    7.8792        Q       0.0  \n",
      "2           NONE  263.0000        S       1.0  \n",
      "3           NONE   17.4000        S       1.0  \n",
      "4           NONE    7.8542        S       0.0  \n",
      "...          ...       ...      ...       ...  \n",
      "1304        NONE    8.0500        S       1.0  \n",
      "1305          PC  108.9000        C       0.0  \n",
      "1306        NONE   39.0000        S       1.0  \n",
      "1307        NONE   15.5000        Q       1.0  \n",
      "1308          CA   69.5500        S       0.0  \n",
      "\n",
      "[1309 rows x 11 columns]\n"
     ]
    }
   ],
   "source": [
    "# I.4 Put your code here\n",
    "\n",
    "data = {}\n",
    "\n",
    "# Karena sebutan honorifik menandai status, maka dapat dijadikan fitur\n",
    "title_count = {}\n",
    "\n",
    "use_columns = ['pclass', 'title', 'last_name', 'sex', 'age', 'sibsp', 'parch', 'ticket_code', 'fare', 'embarked', 'survived']\n",
    "\n",
    "for col in use_columns:\n",
    "    data[col] = []\n",
    "    \n",
    "# investigasi fitur tambahan\n",
    "for value in df.iloc:\n",
    "    name = value['name']\n",
    "    ticket = value['ticket']\n",
    "    \n",
    "    # memproses title dan last name\n",
    "    commaIdx = name.find(\", \")\n",
    "    dotIdx = name.find(\". \", commaIdx)\n",
    "    title = name[commaIdx+2:dotIdx]\n",
    "    last_name = name[:commaIdx]\n",
    "    if (title not in title_count):\n",
    "        title_count[title] = 1\n",
    "    else:\n",
    "        title_count[title] += 1\n",
    "    \n",
    "    # memproses tiket\n",
    "    ticket_sep = ticket[::-1].find(\" \")\n",
    "    if (ticket_sep != -1):\n",
    "        ticket_sep = len(ticket)-ticket_sep\n",
    "        ticket_code = ticket[:ticket_sep].replace(\".\", \"\").replace(\" \", \"\")\n",
    "    else:\n",
    "        if (ticket == \"LINE\"):\n",
    "            ticket_code = \"LINE\"\n",
    "        else:\n",
    "            ticket_code = \"NONE\"\n",
    "    \n",
    "    data['pclass'].append(value['pclass'])\n",
    "    data['title'].append(title)\n",
    "    data['last_name'].append(last_name)\n",
    "    data['sex'].append(value['sex'])\n",
    "    data['age'].append(value['age'])\n",
    "    data['sibsp'].append(value['sibsp'])\n",
    "    data['parch'].append(value['parch'])\n",
    "    data['ticket_code'].append(ticket_code)\n",
    "    data['fare'].append(value['fare'])\n",
    "    data['embarked'].append(value['embarked'])\n",
    "    data['survived'].append(value['survived'])\n",
    "\n",
    "# Data understanding kolom title count\n",
    "print(\"Title count:\")\n",
    "for title in title_count:\n",
    "    print(\"• \"+title+\": \"+str(title_count[title]))\n",
    "\n",
    "# Untuk memudahkan, beberapa sebutan digabung, terutama yang frekuensiya jarang dalam dataset\n",
    "# selebihnya, sebutan wanita dapat digabung menjadi Mrs dan Miss, sesuai\n",
    "# https://newrepublic.com/article/119432/history-female-titles-mistress-miss-mrs-or-ms\n",
    "titles_map = {'Miss': 'Miss', 'Mrs': 'Mrs', 'Mr': 'Mr', 'Master': 'Master', 'Dr': 'Other', 'Rev': 'Other', 'Don': 'Other', 'Col': 'Army', 'Mme': 'Mrs', 'Capt': 'Army', 'Sir': 'Other', 'Ms': 'Mrs', 'the Countess': 'Nobility', 'Dona': 'Other', 'Mlle': 'Miss', 'Major': 'Army', 'Lady': 'Nobility', 'Jonkheer': 'Other'}\n",
    "\n",
    "for i, title in enumerate(data['title']):\n",
    "    data['title'][i] = titles_map[title]\n",
    "\n",
    "print(\"\\nDataset dengan fitur ditambahkan/dihilangkan:\")\n",
    "new_df = pd.DataFrame(data)\n",
    "print(new_df)\n",
    "\n",
    "# Penanganan missing values\n",
    "new_df.describe()\n",
    "\n",
    "new_df['age'] = new_df['age'].fillna(new_df['age'].mean())\n",
    "# for each passanger class, fill missing fare as average fare of each passanger class\n",
    "for pclass in new_df['pclass'].unique():\n",
    "    avg_fare_of_pclass = new_df[(new_df['pclass'] == pclass)][['fare']].mean()[0]\n",
    "    new_df.loc[(new_df['pclass'] == pclass), 'fare'] = new_df[(new_df['pclass'] == pclass)][['fare']].fillna(avg_fare_of_pclass)\n",
    "\n",
    "new_df['embarked'] = new_df['embarked'].fillna(new_df['embarked'].mode()[0])"
   ]
  },
  {
   "cell_type": "code",
   "execution_count": 191,
   "metadata": {},
   "outputs": [
    {
     "name": "stdout",
     "output_type": "stream",
     "text": [
      "• title: 0\n",
      "• last_name: 0\n",
      "• sex: 0\n",
      "• age: 0\n",
      "• sibsp: 0\n",
      "• parch: 0\n",
      "• ticket_code: 0\n",
      "• fare: 0\n",
      "• embarked: 0\n"
     ]
    }
   ],
   "source": [
    "# Validasi tidak ada missing value\n",
    "\n",
    "for column in new_df.columns[1:]:\n",
    "    if (column != \"survived\"):\n",
    "        print(\"• \"+column+str(\": \")+str(len(new_df[new_df[column].isna()])))"
   ]
  },
  {
   "cell_type": "markdown",
   "metadata": {
    "id": "mt2zHZRauLIm"
   },
   "source": [
    "# II. Experiments Design\n",
    "Tujuan dari bagian ini adalah peserta dapat memahami cara melakukan eksperimen mencari metode terbaik dengan benar. Hal ini meliputi:\n",
    "1. Pembuatan model\n",
    "2. Proses validasi\n",
    "3. Hyperparameter tuning"
   ]
  },
  {
   "cell_type": "markdown",
   "metadata": {
    "id": "Kf4xsl8RydIt"
   },
   "source": [
    "## II.1\n",
    "Tentukanlah metrics yang akan digunakan pada eksperimen kali ini (dapat lebih dari 1 metric)"
   ]
  },
  {
   "cell_type": "markdown",
   "metadata": {
    "id": "S2I0axfj4OuC"
   },
   "source": [
    "Put your answer for section II.1 here"
   ]
  },
  {
   "cell_type": "markdown",
   "metadata": {
    "id": "FONT0OyUyoQG"
   },
   "source": [
    "## II.2 \n",
    "Bagi data dengan perbandingan 0.8 untuk data train dan 0.2 untuk data validasi"
   ]
  },
  {
   "cell_type": "code",
   "execution_count": null,
   "metadata": {
    "id": "Gqa9nn5muMS2"
   },
   "outputs": [],
   "source": [
    "# II.2 Put your code here"
   ]
  },
  {
   "cell_type": "markdown",
   "metadata": {
    "id": "V4yS8O3tyyyh"
   },
   "source": [
    "## II.3\n",
    "Lakukanlah:\n",
    "1. Prediksi dengan menggunakan model Logistic Regression sebagai *baseline*\n",
    "2. Tampilkan evaluasi dari model yang dibangun dari metrics yang anda tentukan pada II.1\n",
    "3. Tampilkan confusion matrix"
   ]
  },
  {
   "cell_type": "code",
   "execution_count": null,
   "metadata": {
    "id": "EpEqAz94yyQo"
   },
   "outputs": [],
   "source": [
    "# II.3 Put your code here"
   ]
  },
  {
   "cell_type": "markdown",
   "metadata": {
    "id": "aFB2AlZfzU54"
   },
   "source": [
    "## II.4 \n",
    "Lakukanlah:\n",
    "1. Pembelajaran dengan model lain\n",
    "2. Hyperparameter tuning model yang kalian pakai dengan menggunakan Grid Search (perhatikan random factor pada beberapa algoritma model)\n",
    "3. Lakukan validasi dengan menggunakan cross validation\n"
   ]
  },
  {
   "cell_type": "code",
   "execution_count": null,
   "metadata": {
    "id": "df0YVJ7dzUSc"
   },
   "outputs": [],
   "source": [
    "# II.4 Put your code here"
   ]
  },
  {
   "cell_type": "markdown",
   "metadata": {
    "id": "5ePIGuRZuNZb"
   },
   "source": [
    "# III. Improvement\n",
    "Terdapat beberapa metode untuk melakukan peningkatan performa, contohnya adalah:\n",
    "1. Melakukan oversampling / undersampling pada data\n",
    "2. Menggabungkan beberapa model \n",
    "\n",
    "Pada bagian ini, kalian diharapkan dapat:\n",
    "1. Melakukan training dengan data hasil oversampling / undersampling dan melakukan validasi dengan benar\n",
    "2. Memahami beberapa metode untuk menggabungkan beberapa model"
   ]
  },
  {
   "cell_type": "markdown",
   "metadata": {
    "id": "NGgjXVqf1vhN"
   },
   "source": [
    "## III.1\n",
    "Lakukanlah:\n",
    "1. Oversampling pada kelas minoritas pada data train, kemudian train dengan model *baseline* (II.3), lakukan validasi dengan data validasi. Data train dan validasi adalah data yang kalian bagi pada bagian II.2\n",
    "2. Undersampling pada kelas mayoritas pada data train, kemudian train dengan model *baseline* (II.3) lakukan validasi dengan data validasi. Data train dan validasi adalah data yang kalian bagi pada bagian II.2"
   ]
  },
  {
   "cell_type": "code",
   "execution_count": null,
   "metadata": {
    "id": "bLLLsyoF2GIM"
   },
   "outputs": [],
   "source": [
    "# III.1 Put your code here"
   ]
  },
  {
   "cell_type": "markdown",
   "metadata": {
    "id": "FtbGHN3P2Fxe"
   },
   "source": [
    "## III.2\n",
    "Lakukanlah:\n",
    "1. Eksplorasi soft voting, hard voting, dan stacking\n",
    "2. Buatlah model Logistic Regression dan SVM (boleh menggunakan model dengan beberapa parameter yang berbeda)\n",
    "3. Lakukanlah soft voting dari model-model yang sudah kalian buat pada poin 2\n",
    "4. Lakukan hard voting dari model-model yang sudah kalian buat pada poin 2\n",
    "5. Lakukanlah stacking dengan final classifier adalah Logistic Regression dari model-model yang sudah kalian buat pada poin 2\n",
    "6. Lakukan validasi dengan metrics yang kalian tentukan untuk poin 3, 4, dan 5"
   ]
  },
  {
   "cell_type": "markdown",
   "metadata": {
    "id": "NfGqy72SAZ-t"
   },
   "source": [
    "Put your answer for section III.2 point 1 here"
   ]
  },
  {
   "cell_type": "code",
   "execution_count": null,
   "metadata": {
    "id": "zdchguBQtErx"
   },
   "outputs": [],
   "source": [
    "# III.2 Put your code here"
   ]
  },
  {
   "cell_type": "markdown",
   "metadata": {
    "id": "unmFXb-73OMD"
   },
   "source": [
    "# IV. Analisis\n",
    "Bandingkan hasil dari:\n",
    "1. Model Baseline (II.3)\n",
    "2. Model lain (II.4)\n",
    "3. Hasil undersampling\n",
    "4. Hasil oversampling\n",
    "5. Hasil soft voting\n",
    "6. Hasil hard voting\n",
    "7. Hasil stacking "
   ]
  },
  {
   "cell_type": "markdown",
   "metadata": {
    "id": "e9x0VH2AAkwZ"
   },
   "source": [
    "Put your answer for section IV here"
   ]
  }
 ],
 "metadata": {
  "colab": {
   "collapsed_sections": [],
   "name": "Tugas Pendahuluan IF3270.ipynb",
   "provenance": []
  },
  "kernelspec": {
   "display_name": "Python 3",
   "language": "python",
   "name": "python3"
  },
  "language_info": {
   "codemirror_mode": {
    "name": "ipython",
    "version": 3
   },
   "file_extension": ".py",
   "mimetype": "text/x-python",
   "name": "python",
   "nbconvert_exporter": "python",
   "pygments_lexer": "ipython3",
   "version": "3.9.6"
  }
 },
 "nbformat": 4,
 "nbformat_minor": 4
}
